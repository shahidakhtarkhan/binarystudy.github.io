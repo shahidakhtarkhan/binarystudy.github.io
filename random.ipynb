{
 "cells": [
  {
   "cell_type": "code",
   "execution_count": null,
   "metadata": {},
   "outputs": [],
   "source": [
    ">>> import numpy as np\n",
    ">>> np.random.seed(0);np.random.rand(3)\n",
    "array([ 0.5488135 ,  0.71518937,  0.60276338])\n",
    ">>> np.random.seed(0);np.random.rand(3)\n",
    "array([ 0.5488135 ,  0.71518937,  0.60276338])\n",
    "# You may set any number to seed \n",
    ">>> np.random.seed(2);np.random.rand(3)\n",
    "array([ 0.4359949 ,  0.02592623,  0.54966248])\n",
    ">>> np.random.seed(2);np.random.rand(3)\n",
    "array([ 0.4359949 ,  0.02592623,  0.54966248])"
   ]
  },
  {
   "cell_type": "code",
   "execution_count": null,
   "metadata": {},
   "outputs": [],
   "source": [
    ">>> np.random.rand(3)\n",
    "array([ 0.43532239,  0.4203678 ,  0.33033482])\n",
    ">>> np.random.rand(3)\n",
    "array([ 0.20464863,  0.61927097,  0.29965467])"
   ]
  }
 ],
 "metadata": {
  "kernelspec": {
   "display_name": "Python 3",
   "language": "python",
   "name": "python3"
  },
  "language_info": {
   "codemirror_mode": {
    "name": "ipython",
    "version": 3
   },
   "file_extension": ".py",
   "mimetype": "text/x-python",
   "name": "python",
   "nbconvert_exporter": "python",
   "pygments_lexer": "ipython3",
   "version": "3.7.3"
  }
 },
 "nbformat": 4,
 "nbformat_minor": 2
}
