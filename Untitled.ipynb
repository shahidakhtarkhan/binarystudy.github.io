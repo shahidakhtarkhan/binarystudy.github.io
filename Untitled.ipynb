{
 "cells": [
  {
   "cell_type": "code",
   "execution_count": null,
   "metadata": {},
   "outputs": [],
   "source": [
    "def char_frequency(str1):\n",
    "    dict = {}\n",
    "    for n in str1:\n",
    "        keys = dict.keys()\n",
    "        if n in keys:\n",
    "            dict[n] += 1\n",
    "        else:\n",
    "            dict[n] = 1\n",
    "    return dict\n",
    "print(char_frequency('google.com'))"
   ]
  },
  {
   "cell_type": "code",
   "execution_count": 12,
   "metadata": {},
   "outputs": [
    {
     "data": {
      "text/plain": [
       "{'g': 2, 'o': 4, 'l': 1, 'e': 1, ' ': 2, 'd': 1, 't': 1, 'c': 1, 'm': 1}"
      ]
     },
     "execution_count": 12,
     "metadata": {},
     "output_type": "execute_result"
    }
   ],
   "source": [
    "str = \"google dot com\"\n",
    "dict = {}\n",
    "for n in str:\n",
    "    keys = dict.keys()\n",
    "    if n in keys:\n",
    "        dict[n] += 1 \n",
    "    else:\n",
    "        dict[n] = 1\n",
    "dict\n",
    "  "
   ]
  },
  {
   "cell_type": "code",
   "execution_count": 19,
   "metadata": {},
   "outputs": [
    {
     "data": {
      "text/plain": [
       "'omom'"
      ]
     },
     "execution_count": 19,
     "metadata": {},
     "output_type": "execute_result"
    }
   ],
   "source": [
    "str = \"om\"\n",
    "str[:2]+str[-2:]\n"
   ]
  },
  {
   "cell_type": "code",
   "execution_count": 1,
   "metadata": {},
   "outputs": [
    {
     "data": {
      "text/plain": [
       "'goo$le dot com is a very $ood website for'"
      ]
     },
     "execution_count": 1,
     "metadata": {},
     "output_type": "execute_result"
    }
   ],
   "source": [
    "str =\"google dot com is a very good website for\"\n",
    "char = str[0]\n",
    "str1 = str.replace(char, '$')\n",
    "str = char + str1[1:]\n",
    "str"
   ]
  },
  {
   "cell_type": "code",
   "execution_count": 29,
   "metadata": {},
   "outputs": [
    {
     "data": {
      "text/plain": [
       "'abz xyc'"
      ]
     },
     "execution_count": 29,
     "metadata": {},
     "output_type": "execute_result"
    }
   ],
   "source": [
    "str1 = \"xyz\"\n",
    "str2 = \"abc\"\n",
    "str1_new = str2[:2]+str1[2:]\n",
    "str2_new = str1[:2]+str2[2:]\n",
    "str1_new +\" \"+ str2_new "
   ]
  },
  {
   "cell_type": "code",
   "execution_count": 35,
   "metadata": {},
   "outputs": [
    {
     "name": "stdout",
     "output_type": "stream",
     "text": [
      "goooooogleingly\n"
     ]
    }
   ],
   "source": [
    "str = \"goooooogleing\"\n",
    "length = len(str)\n",
    "if length > 2:\n",
    "    if str[-3:] =='ing':\n",
    "        #str = str +'ly'\n",
    "        str += 'ly'\n",
    "    else:\n",
    "        str = str + 'ing'\n",
    "print (str)\n",
    "    "
   ]
  },
  {
   "cell_type": "code",
   "execution_count": 48,
   "metadata": {},
   "outputs": [
    {
     "data": {
      "text/plain": [
       "'this is good performance in python programming '"
      ]
     },
     "execution_count": 48,
     "metadata": {},
     "output_type": "execute_result"
    }
   ],
   "source": [
    "str = \"this is not my program to find the poor performance in python programming \"\n",
    "idnot = str.find(\"not\")\n",
    "idpoor = str.find(\"poor\")\n",
    "if idnot < idpoor :\n",
    "    str = str.replace(str[idnot : idpoor+4], 'good')\n",
    "str"
   ]
  },
  {
   "cell_type": "code",
   "execution_count": 51,
   "metadata": {},
   "outputs": [
    {
     "data": {
      "text/plain": [
       "'shahid'"
      ]
     },
     "execution_count": 51,
     "metadata": {},
     "output_type": "execute_result"
    }
   ],
   "source": [
    "words = [\"shahid\", \"akhtar\", \"khan\"]\n",
    "max_len = len(words[0])\n",
    "max_word = words[0]\n",
    "for word in words:\n",
    "    if len(word) > max_len:\n",
    "        max_len = len(word)\n",
    "        max_word = word\n",
    "max_word"
   ]
  },
  {
   "cell_type": "code",
   "execution_count": 60,
   "metadata": {},
   "outputs": [
    {
     "data": {
      "text/plain": [
       "'shahi akhtar'"
      ]
     },
     "execution_count": 60,
     "metadata": {},
     "output_type": "execute_result"
    }
   ],
   "source": [
    "str ='shahid akhtar'\n",
    "n =5\n",
    "str =str[:n]+str[n+1:]\n",
    "str"
   ]
  },
  {
   "cell_type": "code",
   "execution_count": 62,
   "metadata": {},
   "outputs": [
    {
     "data": {
      "text/plain": [
       "'eooglg'"
      ]
     },
     "execution_count": 62,
     "metadata": {},
     "output_type": "execute_result"
    }
   ],
   "source": [
    "str= 'google'\n",
    "str = str[-1] + str[1:-1] + str[0]\n",
    "str\n"
   ]
  },
  {
   "cell_type": "code",
   "execution_count": 1,
   "metadata": {},
   "outputs": [
    {
     "data": {
      "text/plain": [
       "'dhahid'"
      ]
     },
     "execution_count": 1,
     "metadata": {},
     "output_type": "execute_result"
    }
   ],
   "source": [
    "str = \"shahid\"\n",
    "str.replace(str[0], str[-1])"
   ]
  },
  {
   "cell_type": "code",
   "execution_count": 63,
   "metadata": {},
   "outputs": [
    {
     "data": {
      "text/plain": [
       "'sai ktrka'"
      ]
     },
     "execution_count": 63,
     "metadata": {},
     "output_type": "execute_result"
    }
   ],
   "source": [
    "str='shahid Akhtar khan'\n",
    "result=''\n",
    "for i in range(len(str)):\n",
    "    if i%2 ==0:\n",
    "        result += str[i]\n",
    "result"
   ]
  },
  {
   "cell_type": "markdown",
   "metadata": {},
   "source": [
    "# Python String"
   ]
  },
  {
   "cell_type": "code",
   "execution_count": null,
   "metadata": {},
   "outputs": [],
   "source": []
  },
  {
   "cell_type": "code",
   "execution_count": 130,
   "metadata": {},
   "outputs": [
    {
     "name": "stdout",
     "output_type": "stream",
     "text": [
      "Help on method_descriptor:\n",
      "\n",
      "count(...)\n",
      "    S.count(sub[, start[, end]]) -> int\n",
      "    \n",
      "    Return the number of non-overlapping occurrences of substring sub in\n",
      "    string S[start:end].  Optional arguments start and end are\n",
      "    interpreted as in slice notation.\n",
      "\n"
     ]
    }
   ],
   "source": [
    "from string import Template\n",
    "c = \"python programming\"\n",
    "c[2:9:2]\n",
    "c[::-1]\n",
    "c.capitalize()\n",
    "a= \"shahid\"\n",
    "b = \"kan\"\n",
    "fname = \"shahid\"\n",
    "mname = \"Akhtar\"\n",
    "lname = \"Khan\"\n",
    "c = \"my full name is {} {}\".format(a,b)\n",
    "c = Template(\"my full name is $a $b $c\")\n",
    "c.substitute(a=fname, b= mname, c=lname)\n",
    "#dir(lname)\n",
    "help(str.count)"
   ]
  },
  {
   "cell_type": "code",
   "execution_count": null,
   "metadata": {},
   "outputs": [],
   "source": [
    "\"\"\"\n",
    "    1. variable ie course = \"Python Programming\"\n",
    "    2. lenth   len(course)\n",
    "    3. index   course[0], course[-1]\n",
    "    4. slicing   course[0:3], course[:], course[:5], course[0:9:2], reversing strring course[::-1]\n",
    "        no backpropagation course[4:1] \n",
    "Scape Sequences:\n",
    "    1. \\\"\n",
    "    2. \\'\n",
    "    3. \\\\\n",
    "    4. \\n\n",
    "    5. \\t\n",
    "        course = r\"Python \\nprograming\"\n",
    "Formatted Sring:\n",
    "    1. fname = \"shahid\"\n",
    "    mname = \"Akhtar\"\n",
    "    lname = \"Khan\"\n",
    "    fullname = fname +\" \"+ mname +\" \"+ lname\n",
    "    fullname = f\"{fname} {mname} {lname}\"\n",
    "    fname + mname*2 + lname*3\n",
    "    fullname = \"My full name is %s %s %s\"(fname, mname, lanme)\n",
    "    fullname = \"my full name is {} {} {}\".format(fname, mname, lname)\n",
    "    from string import Template\n",
    "    c = Template(\"my full name is $a $b $c\")\n",
    "    c.substitute(a=fname, b= mname, c=lname)\n",
    "String Method:\n",
    "    course.upper()\n",
    "    course.lower()\n",
    "    course.title()\n",
    "    course.capitalize()\n",
    "    course.count(\"P\")\n",
    "    course.index(\"g\")\n",
    "    course.isalnum()\n",
    "    course.isalpha()  isdecimal(), islower(), isupper()\n",
    "    course.split(\"g\")\n",
    "    course.strip()   lstrip(), rstrip()\n",
    "    course.find(\"ho\")\n",
    "    course.replace(\"p\", \"J\")\n",
    "    \"pro\" in course\n",
    "    \"good\" not in course\n",
    "    dir(course)\n",
    "    help(str)\n",
    "    help(str.cout)\n",
    "    \n",
    "    \n",
    "    \n",
    "\"\"\""
   ]
  },
  {
   "cell_type": "code",
   "execution_count": 32,
   "metadata": {},
   "outputs": [
    {
     "name": "stdout",
     "output_type": "stream",
     "text": [
      "<class 'numpy.ndarray'>\n",
      "<class 'numpy.matrix'>\n",
      "[[1 0 0 0 2]\n",
      " [2 0 0 0 2]\n",
      " [1 0 0 0 0]\n",
      " [0 2 0 0 0]]\n"
     ]
    }
   ],
   "source": [
    "import numpy\n",
    "B = numpy.random.random((4, 5)) #its ndArray\n",
    "B[1] = B[2]+B[0] \n",
    "B[-1] = B[1]+B[0] \n",
    "A = np.array([[1,0,0,0,2],\n",
    "              [0,0,3,0,0],\n",
    "              [1,0,0,0,0],\n",
    "              [0,2,0,0,0]])\n",
    "A[1] = A[0]+A[2] \n",
    "C = numpy.matrix(A)# it is matrix\n",
    "print(type(B))\n",
    "print(type(C)) \n",
    "print(C)"
   ]
  },
  {
   "cell_type": "code",
   "execution_count": 33,
   "metadata": {},
   "outputs": [
    {
     "name": "stdout",
     "output_type": "stream",
     "text": [
      "[[1 0 0 0 2]\n",
      " [2 0 0 0 2]\n",
      " [1 0 0 0 0]\n",
      " [0 2 0 0 0]]\n",
      "U: \n",
      " [[-0.60061066 -0.         -0.55311256  0.57735027]\n",
      " [-0.77931486  0.          0.24358781 -0.57735027]\n",
      " [-0.1787042   0.          0.79670037  0.57735027]\n",
      " [ 0.          1.          0.          0.        ]]\n",
      "Sigma: \n",
      " [3.61701016 2.         0.95772515 0.        ]\n",
      "VT: \n",
      " [[-0.6463749   0.          0.          0.         -0.76301998]\n",
      " [-0.          1.          0.          0.          0.        ]\n",
      " [ 0.76301998  0.          0.          0.         -0.6463749 ]\n",
      " [ 0.          0.          1.          0.          0.        ]\n",
      " [ 0.          0.          0.          1.          0.        ]]\n",
      "[[3.61701016 0.         0.         0.        ]\n",
      " [0.         2.         0.         0.        ]\n",
      " [0.         0.         0.95772515 0.        ]\n",
      " [0.         0.         0.         0.        ]]\n"
     ]
    }
   ],
   "source": [
    "import numpy as np\n",
    "from numpy import matrix\n",
    "#from numpy import array\n",
    "from numpy.linalg import svd\n",
    "#A = np.array([[1,0,0,0,2],[0,0,3,0,0],[0,0,0,0,0],[0,2,0,0,0]])\n",
    "print(C)\n",
    "U, Sigma, VT = svd(C)\n",
    "U = matrix(U)\n",
    "#Sigma = matrix(Sigma)\n",
    "VT = matrix(VT)\n",
    "print(\"U: \\n\",U)\n",
    "print(\"Sigma: \\n\",Sigma)\n",
    "print(\"VT: \\n\",VT)\n",
    "S = np.diag(Sigma)\n",
    "#S.resize(4,5)\n",
    "print(S)\n",
    "#B = U.dot(S.dot(VT))\n"
   ]
  },
  {
   "cell_type": "code",
   "execution_count": null,
   "metadata": {},
   "outputs": [],
   "source": []
  },
  {
   "cell_type": "code",
   "execution_count": 117,
   "metadata": {},
   "outputs": [
    {
     "name": "stdout",
     "output_type": "stream",
     "text": [
      "[[-0.60061066 -0.         -0.55311256]\n",
      " [-0.77931486  0.          0.24358781]\n",
      " [-0.1787042   0.          0.79670037]\n",
      " [ 0.          1.          0.        ]]\n",
      "[[3.61701016 0.         0.        ]\n",
      " [0.         2.         0.        ]\n",
      " [0.         0.         0.95772515]]\n",
      "[[-0.6463749   0.          0.          0.         -0.76301998]\n",
      " [-0.          1.          0.          0.          0.        ]\n",
      " [ 0.76301998  0.          0.          0.         -0.6463749 ]]\n",
      "[[ 1.00000000e+00  0.00000000e+00  0.00000000e+00  0.00000000e+00\n",
      "   2.00000000e+00]\n",
      " [ 2.00000000e+00  0.00000000e+00  0.00000000e+00  0.00000000e+00\n",
      "   2.00000000e+00]\n",
      " [ 1.00000000e+00  0.00000000e+00  0.00000000e+00  0.00000000e+00\n",
      "  -2.22044605e-16]\n",
      " [ 0.00000000e+00  2.00000000e+00  0.00000000e+00  0.00000000e+00\n",
      "   0.00000000e+00]]\n",
      "[[1 0 0 0 2]\n",
      " [2 0 0 0 2]\n",
      " [1 0 0 0 0]\n",
      " [0 2 0 0 0]]\n"
     ]
    }
   ],
   "source": [
    "k = 3\n",
    "U = U[:, :k]\n",
    "Sigma = Sigma[:k]\n",
    "Sigma = np.diag(Sigma)\n",
    "#Sigma = matrix(Sigma)\n",
    "VT = VT[:k]\n",
    "print(U)\n",
    "print(Sigma)\n",
    "print(VT)\n",
    "R = U.dot(Sigma.dot(VT))\n",
    "print(R)\n",
    "print(C)"
   ]
  },
  {
   "cell_type": "code",
   "execution_count": 39,
   "metadata": {},
   "outputs": [
    {
     "name": "stdout",
     "output_type": "stream",
     "text": [
      "[[1 0 1 0]\n",
      " [0 2 0 1]\n",
      " [2 3 0 0]\n",
      " [0 0 0 1]]\n",
      "[[1 0 1 0]\n",
      " [0 2 0 1]\n",
      " [2 3 0 0]\n",
      " [0 0 0 1]]\n"
     ]
    },
    {
     "data": {
      "text/plain": [
       "array([[1, 0, 1, 0],\n",
       "       [0, 2, 0, 1],\n",
       "       [2, 3, 0, 0],\n",
       "       [0, 0, 0, 1]])"
      ]
     },
     "execution_count": 39,
     "metadata": {},
     "output_type": "execute_result"
    }
   ],
   "source": [
    "import numpy as np\n",
    "# from numpy import det\n",
    "# import numpy as np\n",
    "# from numpy import matrix\n",
    "# from numpy import linalg\n",
    "# from numpy.linalg import det\n",
    "m =  numpy.array([[1,0,1,0],[0,2,0,1],[2,3,0,0],[0,0,0,1]])\n",
    "A = numpy.matrix(m)\n",
    "B = numpy.linalg.det(m)\n",
    " = numpy.linalg.svd(m)\n",
    "print(A)\n",
    "print(m)\n",
    "m\n",
    "# A"
   ]
  },
  {
   "cell_type": "code",
   "execution_count": 10,
   "metadata": {},
   "outputs": [
    {
     "name": "stdout",
     "output_type": "stream",
     "text": [
      "using svd:\n",
      " [[ 1.83325358e+15]\n",
      " [ 2.72702658e+00]\n",
      " [-1.83325358e+15]]\n",
      "[[-0.36363636]\n",
      " [ 1.        ]\n",
      " [-0.36363636]]\n",
      "[7.03960640e+00 6.66289490e-01 2.32592717e-16]\n"
     ]
    }
   ],
   "source": [
    "import numpy as np\n",
    "from numpy.linalg import svd\n",
    "import numpy.linalg as la\n",
    "from numpy import linalg\n",
    "\n",
    "def solve_svd(A,b):\n",
    "    # compute svd of A\n",
    "    U,s,Vh = svd(A)\n",
    "\n",
    "    # U diag(s) Vh x = b <=> diag(s) Vh x = U.T b = c\n",
    "    c = np.dot(U.T,b)\n",
    "    # diag(s) Vh x = c <=> Vh x = diag(1/s) c = w (trivial inversion of a diagonal matrix)\n",
    "    w = np.dot(np.diag(1/s),c)\n",
    "    # Vh x = w <=> x = Vh.H w (where .H stands for hermitian = conjugate transpose)\n",
    "    x = np.dot(Vh.conj().T,w)\n",
    "    return x\n",
    "# x+y=2; 1 1 2\n",
    "# x-y=0  1-1 0\n",
    "# A = np.array([[1,1,0],[0,1,2],[1,2,0]])\n",
    "A = np.array([[-3,-1,-3],[3,2,3],[2,1,2]])\n",
    "b = np.array([[1],[0],[-1]])\n",
    "# print(A,\"\\n\", b)\n",
    "print(\"using svd:\\n\", solve_svd(A,b))\n",
    "# print(linalg.solve(A,b))\n",
    "x = np.linalg.pinv(A)\n",
    "R = x.dot(b)\n",
    "\n",
    "print(R)\n",
    "print(svd(A)[1])"
   ]
  },
  {
   "cell_type": "code",
   "execution_count": 72,
   "metadata": {},
   "outputs": [
    {
     "ename": "NameError",
     "evalue": "name 'j' is not defined",
     "output_type": "error",
     "traceback": [
      "\u001b[1;31m---------------------------------------------------------------------------\u001b[0m",
      "\u001b[1;31mNameError\u001b[0m                                 Traceback (most recent call last)",
      "\u001b[1;32m<ipython-input-72-7f856501d8ab>\u001b[0m in \u001b[0;36m<module>\u001b[1;34m\u001b[0m\n\u001b[0;32m     12\u001b[0m \u001b[1;31m# np.diag(1/sigma)\u001b[0m\u001b[1;33m\u001b[0m\u001b[1;33m\u001b[0m\u001b[1;33m\u001b[0m\u001b[0m\n\u001b[0;32m     13\u001b[0m \u001b[1;31m# print(V)\u001b[0m\u001b[1;33m\u001b[0m\u001b[1;33m\u001b[0m\u001b[1;33m\u001b[0m\u001b[0m\n\u001b[1;32m---> 14\u001b[1;33m \u001b[0mS\u001b[0m \u001b[1;33m=\u001b[0m \u001b[0mnp\u001b[0m\u001b[1;33m.\u001b[0m\u001b[0marray\u001b[0m\u001b[1;33m(\u001b[0m\u001b[1;33m[\u001b[0m\u001b[1;33m[\u001b[0m\u001b[1;36m1\u001b[0m\u001b[1;33m+\u001b[0m\u001b[0mj\u001b[0m\u001b[1;33m,\u001b[0m \u001b[1;36m2\u001b[0m\u001b[1;33m-\u001b[0m\u001b[1;36m2j\u001b[0m\u001b[1;33m]\u001b[0m\u001b[1;33m,\u001b[0m\u001b[1;33m[\u001b[0m\u001b[1;36m1\u001b[0m\u001b[1;33m+\u001b[0m\u001b[1;36m2j\u001b[0m\u001b[1;33m,\u001b[0m \u001b[1;36m6\u001b[0m\u001b[1;33m-\u001b[0m\u001b[0mj\u001b[0m\u001b[1;33m]\u001b[0m\u001b[1;33m]\u001b[0m\u001b[1;33m)\u001b[0m\u001b[1;33m\u001b[0m\u001b[1;33m\u001b[0m\u001b[0m\n\u001b[0m\u001b[0;32m     15\u001b[0m \u001b[0mS\u001b[0m\u001b[1;33m.\u001b[0m\u001b[0mconjugate\u001b[0m\u001b[1;33m(\u001b[0m\u001b[1;33m)\u001b[0m\u001b[1;33m\u001b[0m\u001b[1;33m\u001b[0m\u001b[0m\n",
      "\u001b[1;31mNameError\u001b[0m: name 'j' is not defined"
     ]
    }
   ],
   "source": [
    "import numpy as np\n",
    "from numpy import linalg\n",
    "from scipy.linalg import svd\n",
    "from numpy.linalg import eig\n",
    "A = np.array([[1,2,0],[2,1,0],[0,0,2]])\n",
    "U, sigma, V = svd(A)\n",
    "# print(U)\n",
    "# evalues, evectors = eig(A)\n",
    "# print(sigma)\n",
    "# print(evalues)\n",
    "# print(evectors)\n",
    "# print(U.T)\n",
    "# np.diag(1/sigma)\n",
    "# print(V)\n",
    "numpy.linalg.inv()"
   ]
  },
  {
   "cell_type": "code",
   "execution_count": 6,
   "metadata": {},
   "outputs": [
    {
     "name": "stdout",
     "output_type": "stream",
     "text": [
      "[[1 0 1]\n",
      " [2 1 3]]\n",
      "[[3.97621047 0.        ]\n",
      " [0.         0.4356034 ]]\n",
      "[[-0.5585641  -0.59554413 -0.57735027]\n",
      " [-0.2364743   0.78150277 -0.57735027]\n",
      " [-0.7950384   0.18595863  0.57735027]]\n",
      "[[ 1.33333333 -0.33333333]\n",
      " [-1.66666667  0.66666667]\n",
      " [-0.33333333  0.33333333]]\n"
     ]
    }
   ],
   "source": [
    "import numpy as np\n",
    "from numpy.linalg import svd\n",
    "A = np.array([ [1,0,1] , [2,1,3] ])\n",
    "U,sig, VT = svd(A)\n",
    "V = VT.T\n",
    "print(A)\n",
    "print(np.diag(sig))\n",
    "print(V)\n",
    "print(np.linalg.pinv(A))"
   ]
  },
  {
   "cell_type": "code",
   "execution_count": 102,
   "metadata": {},
   "outputs": [
    {
     "name": "stdout",
     "output_type": "stream",
     "text": [
      "[[1 0 1]\n",
      " [2 1 3]]\n",
      "[[3.97621047 0.        ]\n",
      " [0.         0.4356034 ]]\n",
      "[[-0.5585641  -0.59554413 -0.57735027]\n",
      " [-0.2364743   0.78150277 -0.57735027]\n",
      " [-0.7950384   0.18595863  0.57735027]]\n"
     ]
    }
   ],
   "source": [
    "import numpy\n",
    "A = array([ [1,0,1] , [2,1,3] ])\n",
    "U,sig, VT = svd(A)\n",
    "V = VT.T\n",
    "print(A)\n",
    "print(diag(sig))\n",
    "print(V)"
   ]
  },
  {
   "cell_type": "code",
   "execution_count": 101,
   "metadata": {},
   "outputs": [
    {
     "name": "stdout",
     "output_type": "stream",
     "text": [
      "[[1 0 1]\n",
      " [2 1 3]]\n",
      "[[3.97621047 0.        ]\n",
      " [0.         0.4356034 ]]\n",
      "[[-0.5585641  -0.59554413 -0.57735027]\n",
      " [-0.2364743   0.78150277 -0.57735027]\n",
      " [-0.7950384   0.18595863  0.57735027]]\n"
     ]
    }
   ],
   "source": [
    "import numpy\n",
    "A = array([ [1,0,1] , [2,1,3] ])\n",
    "U,sig, VT = svd(A)\n",
    "V = VT.T\n",
    "print(A)\n",
    "print(diag(sig))\n",
    "print(V)"
   ]
  },
  {
   "cell_type": "code",
   "execution_count": 2,
   "metadata": {},
   "outputs": [
    {
     "data": {
      "text/plain": [
       "<function print>"
      ]
     },
     "execution_count": 2,
     "metadata": {},
     "output_type": "execute_result"
    }
   ],
   "source": [
    "print"
   ]
  },
  {
   "cell_type": "code",
   "execution_count": null,
   "metadata": {},
   "outputs": [],
   "source": []
  }
 ],
 "metadata": {
  "kernelspec": {
   "display_name": "Python 3",
   "language": "python",
   "name": "python3"
  },
  "language_info": {
   "codemirror_mode": {
    "name": "ipython",
    "version": 3
   },
   "file_extension": ".py",
   "mimetype": "text/x-python",
   "name": "python",
   "nbconvert_exporter": "python",
   "pygments_lexer": "ipython3",
   "version": "3.7.3"
  }
 },
 "nbformat": 4,
 "nbformat_minor": 2
}
